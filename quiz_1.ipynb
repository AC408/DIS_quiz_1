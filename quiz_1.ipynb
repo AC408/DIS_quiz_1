{
 "cells": [
  {
   "cell_type": "code",
   "execution_count": null,
   "metadata": {},
   "outputs": [],
   "source": [
    "import random\n",
    "name = input(\"What is your name? \\n\")\n",
    "age = input(\"What is your age? \\n\")\n",
    "print(\"Your age is \" + str(int(age) + 5) + \" in 5 years from now\")\n",
    "\n",
    "catNames = []\n",
    "while True:\n",
    "  name = input('Insert as namy cat names as you can image, or enter nothing to stop. \\n')\n",
    "  if name == \"\":\n",
    "    break\n",
    "  catNames = catNames + [name]\n",
    "\n",
    "print(\"You entered \" + str(len(catNames)) + \" cat names.\")\n",
    "random.shuffle(catNames)\n",
    "if len(catNames) == 0:\n",
    "  print(\"Can't concatenate 2 random cat names when there is no cat names\")\n",
    "elif len(catNames) == 1:\n",
    "  print(\"Concatenation of the same cat name is: \" + catNames[0] + catNames[0])\n",
    "else:\n",
    "  print(\"Concatenation of 2 random cat names: \" + catNames[0] + catNames[1])"
   ]
  },
  {
   "cell_type": "code",
   "execution_count": null,
   "metadata": {},
   "outputs": [],
   "source": []
  }
 ],
 "metadata": {
  "kernelspec": {
   "display_name": "Python 3",
   "language": "python",
   "name": "python3"
  },
  "language_info": {
   "name": "python",
   "version": "3.12.4"
  }
 },
 "nbformat": 4,
 "nbformat_minor": 2
}
